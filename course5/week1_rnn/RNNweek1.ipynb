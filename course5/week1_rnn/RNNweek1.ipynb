{
 "cells": [
  {
   "cell_type": "code",
   "execution_count": null,
   "metadata": {},
   "outputs": [],
   "source": [
    "<h6>RNN Week1</h6>\n",
    "<img src=\"rnn1.png\">\n",
    "Notation:$x^{(i)}$ where the round brackets denote the ith sample. Angle brackts denote the t-th word in the time sequence.\n",
    "    The time sequence can be an input or output sequence or the $a^{i}$ output of a RNN stage.\n",
    "    In the case of NLP the input sequence is a sequence of words, $x^{<t>}$ is the t-th word in an input sequence x where x is \n",
    "    usually the input and y is the output. $x^{(i)<t>}$ is the t-th word in the input sequence \n",
    "    for sample i. In the example above $T^{<i>}_x$ is 9 which is the input training example is 9 words long and $T^{<i>}_y$ so the output\n",
    "    for the training example is 15. "
   ]
  },
  {
   "cell_type": "code",
   "execution_count": null,
   "metadata": {},
   "outputs": [],
   "source": []
  }
 ],
 "metadata": {
  "kernelspec": {
   "display_name": "Python 3",
   "language": "python",
   "name": "python3"
  },
  "language_info": {
   "codemirror_mode": {
    "name": "ipython",
    "version": 3
   },
   "file_extension": ".py",
   "mimetype": "text/x-python",
   "name": "python",
   "nbconvert_exporter": "python",
   "pygments_lexer": "ipython3",
   "version": "3.6.5"
  }
 },
 "nbformat": 4,
 "nbformat_minor": 2
}

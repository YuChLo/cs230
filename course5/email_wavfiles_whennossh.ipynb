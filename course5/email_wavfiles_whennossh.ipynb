{
 "cells": [
  {
   "cell_type": "code",
   "execution_count": 5,
   "metadata": {},
   "outputs": [
    {
     "name": "stdout",
     "output_type": "stream",
     "text": [
      "successfully sent the mail\n"
     ]
    }
   ],
   "source": [
    "#\n",
    "import smtplib\n",
    "def foo():\n",
    "    user = \"dougchang25@gmail.com\"\n",
    "    recipient = \"dougchang25@gmail.com\"\n",
    "    pwd=\"B1onniewong##\"\n",
    "    FROM = \"dougchang25@gmail.com\"\n",
    "    TO = recipient if isinstance(recipient, list) else [recipient]\n",
    "    SUBJECT = \"subject email\"\n",
    "    TEXT = \"adsfasdfasdfasdfasd\"\n",
    "    message = \"\"\"From: %s\\nTo: %s\\nSubject: %s\\n\\n%s\n",
    "    \"\"\" % (FROM, \", \".join(TO), SUBJECT, TEXT)\n",
    "    try:\n",
    "        server = smtplib.SMTP(\"smtp.gmail.com\", 587)\n",
    "        server.ehlo()\n",
    "        server.starttls()\n",
    "        server.login(user, pwd)\n",
    "        server.sendmail(FROM, TO, message)\n",
    "        server.close()\n",
    "        print ('successfully sent the mail')\n",
    "    except:\n",
    "        print (\"failed to send mail\")\n",
    "foo()"
   ]
  },
  {
   "cell_type": "code",
   "execution_count": 23,
   "metadata": {},
   "outputs": [],
   "source": [
    "import smtplib\n",
    "from os.path import basename\n",
    "from email.mime.application import MIMEApplication\n",
    "from email.mime.multipart import MIMEMultipart\n",
    "from email.mime.text import MIMEText\n",
    "from email.utils import COMMASPACE, formatdate\n",
    "\n",
    "def send_mail(files):\n",
    "#assert isinstance(send_to, list)\n",
    "    send_from=\"dougchang25@gmail.com\"\n",
    "    send_to=\"dougchang25@gmail.com\"\n",
    "    subject=\"wav file test\"\n",
    "    text=\"this is a test\"\n",
    "    COMMASPACE=\",\"\n",
    "    msg = MIMEMultipart()\n",
    "    msg['From'] = \"dougchang25@gmail.com\"\n",
    "    msg['To'] = COMMASPACE.join(send_to)\n",
    "    msg['Date'] = formatdate(localtime=True)\n",
    "    msg['Subject'] = subject\n",
    "\n",
    "    msg.attach(MIMEText(text))\n",
    "\n",
    "    for f in files or []:\n",
    "        with open(f, \"rb\") as fil:\n",
    "            part = MIMEApplication(\n",
    "                fil.read(),\n",
    "                Name=basename(f)\n",
    "            )\n",
    "        # After the file is closed\n",
    "        part['Content-Disposition'] = 'attachment; filename=\"%s\"' % basename(f)\n",
    "        msg.attach(part)\n",
    "    \n",
    "    server = smtplib.SMTP(\"smtp.gmail.com\", 587)\n",
    "    server.ehlo()\n",
    "    server.starttls()\n",
    "    user = \"dougchang25@gmail.com\"\n",
    "    pwd=\"B1onniewong##\"\n",
    "    server.login(user, pwd)\n",
    "    server.sendmail(send_from, send_to, msg.as_string())\n",
    "    server.close()\n",
    "\n",
    "    \n",
    "send_mail([\"/Users/dc/Desktop/down_to_cases.wav\"])\n",
    "\n"
   ]
  },
  {
   "cell_type": "code",
   "execution_count": null,
   "metadata": {},
   "outputs": [],
   "source": [
    "d"
   ]
  }
 ],
 "metadata": {
  "kernelspec": {
   "display_name": "Python 3",
   "language": "python",
   "name": "python3"
  },
  "language_info": {
   "codemirror_mode": {
    "name": "ipython",
    "version": 3
   },
   "file_extension": ".py",
   "mimetype": "text/x-python",
   "name": "python",
   "nbconvert_exporter": "python",
   "pygments_lexer": "ipython3",
   "version": "3.6.5"
  }
 },
 "nbformat": 4,
 "nbformat_minor": 2
}

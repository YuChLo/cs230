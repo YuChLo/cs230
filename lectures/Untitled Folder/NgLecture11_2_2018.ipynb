{
 "cells": [
  {
   "cell_type": "code",
   "execution_count": null,
   "metadata": {},
   "outputs": [],
   "source": [
    "Lecture 4: MLStrat. You are a CEO and want to build a chip to do trigger word detectiopn like alexa which recognizes\n",
    "    robot turn on. What are the steps? What is the first thing you are going to do? \n",
    "1) get data? no that is too obvious. Answers, read papers, collect data, run quick experiments to establish baseline and to \n",
    "narrow scope/technical challenges. HOw NG reads research papers. Find first one and read till done then keep on reading\n",
    "till done. The more strategic way is to read more faster. 2) what data do you collect? Survey. \n",
    "\n"
   ]
  }
 ],
 "metadata": {
  "kernelspec": {
   "display_name": "Python 3",
   "language": "python",
   "name": "python3"
  },
  "language_info": {
   "codemirror_mode": {
    "name": "ipython",
    "version": 3
   },
   "file_extension": ".py",
   "mimetype": "text/x-python",
   "name": "python",
   "nbconvert_exporter": "python",
   "pygments_lexer": "ipython3",
   "version": "3.6.6"
  }
 },
 "nbformat": 4,
 "nbformat_minor": 2
}

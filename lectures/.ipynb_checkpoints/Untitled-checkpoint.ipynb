{
 "cells": [
  {
   "cell_type": "code",
   "execution_count": null,
   "metadata": {},
   "outputs": [],
   "source": [
    "<img src=\"l2a.png\">\n",
    "If we want multiple classes instead of 1 class in logistic regression what modifications do\n",
    "we add? We add 1 neuron for each new class. E.g. dog is a new class. Add a neuron to support class\n",
    "dog. The lasy layer input into the sigmoid is the number of classes. What will tell the model \n",
    "one neuron is cat one is dog? Teh labels. HOw to lable the data? One hot vector. Or  use integers\n",
    "to map. Modfiy teh loss function, put more weight on 1 animal. Downside to 1 hot encoding, mostly sparse\n",
    "waste of space. if cat can use one hot. if have dog and cat in the same image then one hot \n",
    "does not work. USe softmax if multiple classes in one image. [1] denote\n",
    "<img src=\"l2b.png\">\n"
   ]
  },
  {
   "cell_type": "code",
   "execution_count": null,
   "metadata": {},
   "outputs": [],
   "source": []
  }
 ],
 "metadata": {
  "kernelspec": {
   "display_name": "Python 3",
   "language": "python",
   "name": "python3"
  },
  "language_info": {
   "codemirror_mode": {
    "name": "ipython",
    "version": 3
   },
   "file_extension": ".py",
   "mimetype": "text/x-python",
   "name": "python",
   "nbconvert_exporter": "python",
   "pygments_lexer": "ipython3",
   "version": "3.6.6"
  }
 },
 "nbformat": 4,
 "nbformat_minor": 2
}

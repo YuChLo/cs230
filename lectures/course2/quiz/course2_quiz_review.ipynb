{
 "cells": [
  {
   "cell_type": "code",
   "execution_count": null,
   "metadata": {},
   "outputs": [],
   "source": [
    "<h6>quiz1</h6>\n",
    "\n",
    "<img src=\"c2quiz1_1a.png\">\n",
    "<img src=\"c2quiz1_b4.png\">\n",
    "<img src=\"c2quiz1_2a.png\">\n",
    "<img src=\"c2quiz1_3.png\">\n",
    "<img src=\"c2quiz1_3a.png\">\n",
    "<img src=\"c2quiz1_3b.png\">\n",
    "<img src=\"c2quiz1_3c.png\">\n",
    "<img src=\"c2quiz1_4.png\">\n",
    "<img src=\"c2quiz1_4a.png\">\n",
    "<img src=\"c2quiz1_4b.png\">\n",
    "<img src=\"c2quiz1_5.png\">\n",
    "<img src=\"c2quiz1_5a.png\">\n",
    "<img src=\"c2quiz1_5b.png\">\n",
    "<img src=\"c2quiz1_6.png\">\n",
    "<img src=\"c2quiz1_6a.png\">\n",
    "<img src=\"c2quiz1_7.png\">\n",
    "<img src=\"c2quiz1_8.png\">\n",
    "<img src=\"c2quiz1_8a.png\">\n",
    "<img src=\"c2quiz1_8b.png\">\n",
    "<img src=\"c2quiz1_8c.png\">\n",
    "<img src=\"c2quiz1_9.png\">\n",
    "<img src=\"c2quiz1_9a.png\">\n",
    "<img src=\"c2quiz1_10.png\">\n",
    "\n",
    "<h6>quiz2</h6>\n",
    "<img src=\"c2quiz2_4.png\">\n",
    "<img src=\"c2quiz2_8.png\">\n",
    "<img src=\"c2quiz2_9.png\">\n",
    "\n"
   ]
  }
 ],
 "metadata": {
  "kernelspec": {
   "display_name": "Python 3",
   "language": "python",
   "name": "python3"
  },
  "language_info": {
   "codemirror_mode": {
    "name": "ipython",
    "version": 3
   },
   "file_extension": ".py",
   "mimetype": "text/x-python",
   "name": "python",
   "nbconvert_exporter": "python",
   "pygments_lexer": "ipython3",
   "version": "3.6.5"
  }
 },
 "nbformat": 4,
 "nbformat_minor": 2
}

{
 "cells": [
  {
   "cell_type": "code",
   "execution_count": 7,
   "metadata": {},
   "outputs": [],
   "source": [
    "import tensorflow as tf\n",
    "import numpy as np\n"
   ]
  },
  {
   "cell_type": "code",
   "execution_count": 8,
   "metadata": {},
   "outputs": [
    {
     "name": "stdout",
     "output_type": "stream",
     "text": [
      "Extracting MNIST_data/train-images-idx3-ubyte.gz\n",
      "Extracting MNIST_data/train-labels-idx1-ubyte.gz\n",
      "Extracting MNIST_data/t10k-images-idx3-ubyte.gz\n",
      "Extracting MNIST_data/t10k-labels-idx1-ubyte.gz\n",
      "0 0.1415\n",
      "100 0.8967\n",
      "200 0.9043\n",
      "300 0.9093\n",
      "400 0.9136\n",
      "500 0.9111\n",
      "600 0.9154\n",
      "700 0.9153\n",
      "800 0.9133\n",
      "900 0.919\n",
      "1000 0.9153\n"
     ]
    }
   ],
   "source": [
    "\n",
    "from tensorflow.examples.tutorials.mnist import input_data\n",
    "mnist = input_data.read_data_sets(\"MNIST_data/\", one_hot=True)\n",
    "\n",
    "\n",
    "x = tf.placeholder(tf.float32, [None, 784]) \n",
    "\n",
    "W = tf.Variable(tf.zeros([784, 10]))\n",
    "b = tf.Variable(tf.zeros([10]))\n",
    "y = tf.nn.softmax(tf.matmul(x, W) + b)\n",
    "y_ = tf.placeholder(tf.float32, [None, 10])\n",
    "cross_entropy = tf.reduce_mean(-tf.reduce_sum(y_ * tf.log(y), reduction_indices=[1]))\n",
    "\n",
    "correct_prediction = tf.equal(tf.argmax(y, 1), tf.argmax(y_, 1))\n",
    "accuracy = tf.reduce_mean(tf.cast(correct_prediction, tf.float32))\n",
    "\n",
    "train_step = tf.train.GradientDescentOptimizer(0.5).minimize(cross_entropy)\n",
    "\n",
    "with tf.Session() as sess:\n",
    "    sess.run(tf.initialize_all_variables())\n",
    "\n",
    "    max_steps = 1000\n",
    "    for step in range(max_steps):\n",
    "        batch_xs, batch_ys = mnist.train.next_batch(100)\n",
    "        sess.run(train_step, feed_dict={x: batch_xs, y_: batch_ys})\n",
    "        if (step % 100) == 0:\n",
    "            print(step, sess.run(accuracy, feed_dict={x: mnist.test.images, y_: mnist.test.labels}))\n",
    "    print(max_steps, sess.run(accuracy, feed_dict={x: mnist.test.images, y_: mnist.test.labels}))"
   ]
  },
  {
   "cell_type": "code",
   "execution_count": null,
   "metadata": {},
   "outputs": [],
   "source": [
    "!cat course4/cnn_utils.py"
   ]
  },
  {
   "cell_type": "code",
   "execution_count": 9,
   "metadata": {},
   "outputs": [
    {
     "name": "stdout",
     "output_type": "stream",
     "text": [
      "(1080, 64, 64, 3) (1, 1080) (120, 64, 64, 3) (1, 120) (6,)\n"
     ]
    }
   ],
   "source": [
    "import h5py\n",
    "import numpy as np\n",
    "\n",
    "def load_dataset():\n",
    "    train_dataset = h5py.File('course4/train_signs.h5', \"r\")\n",
    "    train_set_x_orig = np.array(train_dataset[\"train_set_x\"][:]) # your train set features\n",
    "    train_set_y_orig = np.array(train_dataset[\"train_set_y\"][:]) # your train set labels\n",
    "\n",
    "    test_dataset = h5py.File('course4/test_signs.h5', \"r\")\n",
    "    test_set_x_orig = np.array(test_dataset[\"test_set_x\"][:]) # your test set features\n",
    "    test_set_y_orig = np.array(test_dataset[\"test_set_y\"][:]) # your test set labels\n",
    "\n",
    "    classes = np.array(test_dataset[\"list_classes\"][:]) # the list of classes\n",
    "    \n",
    "    train_set_y_orig = train_set_y_orig.reshape((1, train_set_y_orig.shape[0]))\n",
    "    test_set_y_orig = test_set_y_orig.reshape((1, test_set_y_orig.shape[0]))\n",
    "    \n",
    "    return train_set_x_orig, train_set_y_orig, test_set_x_orig, test_set_y_orig, classes\n",
    "\n",
    "X_train,Y_train,x_test,y_test,classes = load_dataset()\n",
    "print(X_train.shape,Y_train.shape,x_test.shape,y_test.shape,classes.shape)\n",
    "\n",
    "W1 = tf.get_variable(\"W1\", shape=[4,4,3,8],initializer=tf.glorot_uniform_initializer(seed=0))\n",
    "W2 = tf.get_variable(\"W2\", shape=[2,2,8,16],initializer=tf.glorot_uniform_initializer(seed=0))\n",
    "    "
   ]
  },
  {
   "cell_type": "code",
   "execution_count": null,
   "metadata": {},
   "outputs": [],
   "source": [
    "import tensorflow as tf\n",
    "import numpy as np\n",
    "\n",
    "tf.reset_default_graph()\n",
    "\n",
    "test = np.arange(28*28)\n",
    "test = test.reshape(28,28)\n",
    "test = test.astype(np.float32)\n",
    "\n",
    "test1 = tf.truncated_normal(\n",
    "    [5,5,1,1],\n",
    "    mean=0.0,\n",
    "    stddev=1.0,\n",
    "    dtype=tf.float32,\n",
    "    seed=1,\n",
    "    name=\"test1\"\n",
    ")\n",
    "\n",
    "#test above if we can print tensors, this doesnt need init.. still works. \n",
    "#b = tf.constant([[5]])\n",
    "#init = tf.global_variables_initializer()\n",
    "#with tf.Session() as sess:\n",
    "#     sess.run(init)\n",
    "#    print(b.eval())\n",
    "#    print(test1.eval())\n",
    "    \n",
    "strides=[1,1,1,1]\n",
    "input_layer = tf.reshape(test, [-1, 28, 28, 1])\n",
    "init = tf.global_variables_initializer()\n",
    "#with tf.Session() as sess:\n",
    "#    sess.run(init)\n",
    "    #print(input_layer.eval())\n",
    "\n",
    "#tf.nn.conv2d(X,W1, strides = [1,s,s,1], padding = 'SAME'):\n",
    "#filter shape isnt right 5,5,1,1...\n",
    "\n",
    "print(f\"type:{type(test1)}\")\n",
    "first_conv2d = tf.nn.conv2d(\n",
    "    input=input_layer,\n",
    "    filter=test1,\n",
    "    strides=strides,\n",
    "    padding='SAME',\n",
    "    name=\"first_conv2d\")\n",
    "\n",
    "print(first_conv2d)\n",
    "init = tf.global_variables_initializer()\n",
    "with tf.Session() as sess:\n",
    "    sess.run(init)\n",
    "    print(first_conv2d)\n",
    "    #n = first_conv2d.eval()\n",
    "    #print(type(n))\n"
   ]
  },
  {
   "cell_type": "code",
   "execution_count": null,
   "metadata": {},
   "outputs": [],
   "source": [
    "#sess = tf.InteractiveSession()\n",
    "#print(first_conv2d.eval().shape)\n",
    "#sess.close()\n",
    "import tensorflow as  tf\n",
    "tf.reset_default_graph()\n",
    "\n",
    "#graph = tf.Graph()\n",
    "#with graph.as_default():\n",
    "foo = tf.Variable(\"W\")\n",
    "W = tf.get_variable(\"W\", shape=[784, 256],initializer=tf.contrib.layers.xavier_initializer())\n",
    "print(foo)\n",
    "print(W)\n",
    "\n",
    "#there are 2 xavier initializers. \n",
    "xavier = tf.glorot_uniform_initializer(seed=None,dtype=tf.float32)\n",
    "w1 = tf.get_variable(shape=[2,2],dtype=tf.float32,initializer=xavier,name=\"w1\")\n",
    "b1 = tf.Variable(initializer([2,1]),name=\"b1\")\n",
    "print(w1,b1)\n",
    "init = tf.global_variables_initializer()\n",
    "with tf.Session() as sess:\n",
    "    sess.run(init)\n",
    "    print(w1.eval())\n",
    "    #print(b1.eval())"
   ]
  },
  {
   "cell_type": "code",
   "execution_count": null,
   "metadata": {},
   "outputs": [],
   "source": []
  },
  {
   "cell_type": "code",
   "execution_count": null,
   "metadata": {},
   "outputs": [],
   "source": []
  }
 ],
 "metadata": {
  "kernelspec": {
   "display_name": "Python 3",
   "language": "python",
   "name": "python3"
  },
  "language_info": {
   "codemirror_mode": {
    "name": "ipython",
    "version": 3
   },
   "file_extension": ".py",
   "mimetype": "text/x-python",
   "name": "python",
   "nbconvert_exporter": "python",
   "pygments_lexer": "ipython3",
   "version": "3.6.6"
  }
 },
 "nbformat": 4,
 "nbformat_minor": 2
}

{
 "cells": [
  {
   "cell_type": "code",
   "execution_count": null,
   "metadata": {},
   "outputs": [],
   "source": [
    "<h6>MLStrat</h6>\n",
    "<img src=\"mlstrat1.png\">\n",
    "where do you put time to get better than 90% accuracy? Do you find more data? Do you \n",
    "make a better model? One person spent 6 months getting more data and it didn't improve\n",
    "performance of system!\n",
    "<img src=\"mlstrat2.png\">\n",
    "The point is steering and speed are orthogonal to each other. Adjusting ML you want ortho controls when tuning hyperparameters\n",
    "<img src=\"mlstrat3.png\">\n",
    "If want improve train error, use bigger network or Adam opt, if improve dev add regularizaiton or bigger training set\n",
    "if want improve test then bigger dev set. if good on dev set but not good on test then not generalizing well. IF not good \n",
    "in real world then change dev set or cost function. Either dev set not complete enough or loss function not optimizing right\n",
    "criteria. AN does not use early stopping bc it affects both train and dev error, ES is not orthogonal to the 4 errors. \n",
    "<img src=\"mlstrat4.png\">\n",
    "You can define a metric conbining 2 metrics accuracy and running time. He shows an equation where he linearly weights\n",
    "the running time $cost=accuracy - 0.3runningtime$. This seems artificial. Or you can choose classifier that maximizes \n",
    "accuracy but the runtime has to be less than 100ms. Accuracy is optimizing metric and running time is satificing metric. A\n",
    "satisficing metric is something that is good enough. Dont care as much as accuracy. "
   ]
  },
  {
   "cell_type": "code",
   "execution_count": null,
   "metadata": {},
   "outputs": [],
   "source": []
  }
 ],
 "metadata": {
  "kernelspec": {
   "display_name": "Python 3",
   "language": "python",
   "name": "python3"
  },
  "language_info": {
   "codemirror_mode": {
    "name": "ipython",
    "version": 3
   },
   "file_extension": ".py",
   "mimetype": "text/x-python",
   "name": "python",
   "nbconvert_exporter": "python",
   "pygments_lexer": "ipython3",
   "version": "3.6.5"
  }
 },
 "nbformat": 4,
 "nbformat_minor": 2
}
